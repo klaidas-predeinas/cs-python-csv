{
 "cells": [
  {
   "cell_type": "markdown",
   "metadata": {},
   "source": [
    "# Using the CSV module for file I/O\n",
    "\n",
    "Python's **csv** module allows you to easily work with **comma separated values** in files\n",
    "\n",
    "CSV files are used to store a large number of variables – or data. They are incredibly simplified spreadsheets – think Excel – only the content is stored in plaintext.\n",
    "\n",
    "And the CSV module is a built-in function that allows Python to parse these types of files.\n",
    "\n",
    "\n",
    "[more info here](http://www.pythonforbeginners.com/systems-programming/using-the-csv-module-in-python/)\n",
    "\n",
    "\n"
   ]
  },
  {
   "cell_type": "markdown",
   "metadata": {},
   "source": [
    "# A csv file\n",
    "\n",
    "The file this sample notebook works with is called **students.csv**\n",
    "\n",
    "Remember the file needs to be in the same folder as the python program in order to access it.\n",
    "\n",
    "You should always use a try/except block around file I/O as missing files or incorrectly named files will result in your program crashing (```  FileNotFound ``` exception) \n",
    "\n",
    "The file looks like this:\n",
    "```\n",
    "Fred,23,34,56\n",
    "Joe,99,45,56\n",
    "Jane,65,34,57\n",
    "Gigi,77,99,12\n",
    "Karla,76,84,45\n",
    "```"
   ]
  },
  {
   "cell_type": "code",
   "execution_count": 1,
   "metadata": {},
   "outputs": [
    {
     "name": "stdout",
     "output_type": "stream",
     "text": [
      "[['Fred', '23', '34', '56'], ['Joe', '99', '45', '56'], ['Jane', '65', '34', '57'], ['Gigi', '77', '99', '12'], ['Karla', '76', '84', '45']]\n"
     ]
    }
   ],
   "source": [
    "#import the csv module\n",
    "import csv\n",
    "\n",
    "#functions\n",
    "\n",
    "#This function opens the file for reading and reads the file contents into a List of list of Strings. \n",
    "#This list is returned to the calling program\n",
    "\n",
    "def openFileRead(file):\n",
    "    with open(file) as csv_file:\n",
    "        return list(csv.reader(csv_file))\n",
    "    \n",
    "    \n",
    "    return dataList\n",
    "\n",
    "\n",
    "#main program\n",
    "\n",
    "studentDataList = openFileRead(\"students.csv\")\n",
    "print(studentDataList)"
   ]
  },
  {
   "cell_type": "code",
   "execution_count": 16,
   "metadata": {},
   "outputs": [
    {
     "name": "stdout",
     "output_type": "stream",
     "text": [
      "Name\tMaths\tEng\tSci\n",
      "Fred\t23\t34\t56\n",
      "Joe\t99\t45\t56\n",
      "Jane\t65\t34\t57\n",
      "Gigi\t77\t99\t12\n",
      "Karla\t76\t84\t45\n",
      "****************************************\n"
     ]
    }
   ],
   "source": [
    "# this function takes as its parameters a list of list (of strings) \n",
    "# and a heading (as a string)\n",
    "# and prints the data in a user friendly table\n",
    "def printData(dataList, headings):\n",
    "    print(\"{}\\n{}\".format(headings, \"\\n\".join(map(\"\\t\".join, dataList)))) #fred\\t23\\t34\\t56\\n\n",
    "    \n",
    "    print('*'*40)\n",
    "    \"\"\"\n",
    "    print(headings)\n",
    "    for i in range(len(dataList)):\n",
    "        for b in range(len(dataList[i])):\n",
    "            print(dataList[i][b] + '\\t', end=\"\")\n",
    "            if b == 3:\n",
    "                print('\\n')\n",
    "    \"\"\"\n",
    "    #print code here\n",
    "        \n",
    "printData(studentDataList, \"Name\\tMaths\\tEng\\tSci\")"
   ]
  },
  {
   "cell_type": "code",
   "execution_count": 13,
   "metadata": {},
   "outputs": [
    {
     "name": "stdout",
     "output_type": "stream",
     "text": [
      "[['Fred', '23', '34', '56', '37.666666666666664'], ['Joe', '99', '45', '56', '66.66666666666667'], ['Jane', '65', '34', '57', '52.0'], ['Gigi', '77', '99', '12', '62.666666666666664'], ['Karla', '76', '84', '45', '68.33333333333333']]\n"
     ]
    }
   ],
   "source": [
    "#this function takes a list of lists (of strings) and calculates the students average grade\n",
    "#this new data is stored in a new list of lists which is returned to the calling function\n",
    "def calulateAve(dataList):\n",
    "    newDataList=[]\n",
    "    \n",
    "    for i in range(len(dataList)):\n",
    "        newItem = []\n",
    "        newItem.extend(dataList[i])\n",
    "        ave = (int(dataList[i][1]) + int(dataList[i][2]) + int(dataList[i][3])) / 3\n",
    "        newItem.append(str(ave))\n",
    "        newDataList.append(newItem)\n",
    "   \n",
    "\n",
    "    #code here\n",
    "       \n",
    "    return newDataList\n",
    "\n",
    "aveStudentData = calulateAve(studentDataList)\n",
    "print(aveStudentData) #debug"
   ]
  },
  {
   "cell_type": "code",
   "execution_count": 17,
   "metadata": {},
   "outputs": [
    {
     "name": "stdout",
     "output_type": "stream",
     "text": [
      "Name\tMaths\tEng\tSci\tAve\n",
      "Fred\t23\t34\t56\t37.666666666666664\n",
      "Joe\t99\t45\t56\t66.66666666666667\n",
      "Jane\t65\t34\t57\t52.0\n",
      "Gigi\t77\t99\t12\t62.666666666666664\n",
      "Karla\t76\t84\t45\t68.33333333333333\n",
      "****************************************\n"
     ]
    }
   ],
   "source": [
    "# now print this new list out nicely\n",
    "\n",
    "printData(aveStudentData, \"Name\\tMaths\\tEng\\tSci\\tAve\")"
   ]
  },
  {
   "cell_type": "code",
   "execution_count": 23,
   "metadata": {},
   "outputs": [],
   "source": [
    "#this function writes a list of lists to a file (as a csv)\n",
    "def write2DListDataToFile(file, data):\n",
    "    with open(file, 'w') as csv_file:\n",
    "        csv.writer(csv_file).writerows(data)\n",
    "    \n",
    "    #code here\n",
    "\n",
    "write2DListDataToFile('2dlist', aveStudentData) \n",
    "# now go a find the file that has been created in your folder"
   ]
  }
 ],
 "metadata": {
  "kernelspec": {
   "display_name": "Python 3",
   "language": "python",
   "name": "python3"
  },
  "language_info": {
   "codemirror_mode": {
    "name": "ipython",
    "version": 3
   },
   "file_extension": ".py",
   "mimetype": "text/x-python",
   "name": "python",
   "nbconvert_exporter": "python",
   "pygments_lexer": "ipython3",
   "version": "3.5.2"
  }
 },
 "nbformat": 4,
 "nbformat_minor": 2
}
